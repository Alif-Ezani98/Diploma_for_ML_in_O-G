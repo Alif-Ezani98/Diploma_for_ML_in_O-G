{
 "cells": [
  {
   "cell_type": "markdown",
   "id": "8b597513",
   "metadata": {},
   "source": [
    "# Assignment 1: Take Pr = Reservoir Pressure and Pb = Bubble Point Pressure as input from user and based on that, print the conditions/types of the reservoir.\n",
    "\n",
    "#### Pr and Pb: Saturated, Undersaturated, gas has been evolved\n",
    "\n",
    "- Pr = Initial reservoir pressure\n",
    "- Pb = Bubble-point pressure\n",
    "- Pr > Pb = Undersaturated Oil\n",
    "- Pr = Pb = Saturated Oil\n",
    "- Pr < Pb = Gas Cap/2-Phase"
   ]
  },
  {
   "cell_type": "code",
   "execution_count": 3,
   "id": "fd2d76b8",
   "metadata": {},
   "outputs": [
    {
     "name": "stdout",
     "output_type": "stream",
     "text": [
      "Reservoir Types Generator\n",
      "\n",
      "What is the initial reservoir pressure?: 52\n",
      "What is the bubble point pressure?: 52\n",
      "=======================================================================================================================\n",
      "Saturated Oil Reservoir, since Reservoir Initial Pressure = Bubble-point Pressure.\n"
     ]
    }
   ],
   "source": [
    "print('Reservoir Types Generator')\n",
    "print()\n",
    "p_res = float(input('What is the initial reservoir pressure?: '))\n",
    "p_bb = float(input('What is the bubble point pressure?: '))\n",
    "\n",
    "print('=======================================================================================================================')\n",
    "\n",
    "if p_res > p_bb:\n",
    "    print('Undersaturated Oil Reservoir, since Reservoir Initial Pressure > Bubble-point Pressure.')\n",
    "elif p_res < p_bb:\n",
    "    print('Gas Cap Reservoir, since Reservoir Initial Pressure < Bubble-point Pressure.')\n",
    "else:\n",
    "    print('Saturated Oil Reservoir, since Reservoir Initial Pressure = Bubble-point Pressure.')"
   ]
  }
 ],
 "metadata": {
  "kernelspec": {
   "display_name": "Python 3 (ipykernel)",
   "language": "python",
   "name": "python3"
  },
  "language_info": {
   "codemirror_mode": {
    "name": "ipython",
    "version": 3
   },
   "file_extension": ".py",
   "mimetype": "text/x-python",
   "name": "python",
   "nbconvert_exporter": "python",
   "pygments_lexer": "ipython3",
   "version": "3.11.3"
  }
 },
 "nbformat": 4,
 "nbformat_minor": 5
}
