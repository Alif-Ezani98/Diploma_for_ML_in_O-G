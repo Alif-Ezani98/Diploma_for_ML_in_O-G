{
 "cells": [
  {
   "cell_type": "markdown",
   "metadata": {},
   "source": [
    "# Dictionary\n",
    "\n",
    "1. keys:values\n",
    "\n",
    "2. {} => key:value pairs\n",
    "\n",
    "3. Can store dict, lists, tuples, str, int, floats in values\n",
    "\n",
    "4. Helps in storing data with labels"
   ]
  },
  {
   "cell_type": "code",
   "execution_count": 2,
   "metadata": {},
   "outputs": [],
   "source": [
    "dict_1 = {} # Empty cursive brackets is considered as dictionary"
   ]
  },
  {
   "cell_type": "code",
   "execution_count": 3,
   "metadata": {},
   "outputs": [
    {
     "data": {
      "text/plain": [
       "dict"
      ]
     },
     "execution_count": 3,
     "metadata": {},
     "output_type": "execute_result"
    }
   ],
   "source": [
    "type(dict_1)"
   ]
  },
  {
   "cell_type": "code",
   "execution_count": 4,
   "metadata": {},
   "outputs": [],
   "source": [
    "set_1 = {5} # But once assigne a value without keys in the cursive bracket, its considered as sets"
   ]
  },
  {
   "cell_type": "code",
   "execution_count": 5,
   "metadata": {},
   "outputs": [
    {
     "data": {
      "text/plain": [
       "set"
      ]
     },
     "execution_count": 5,
     "metadata": {},
     "output_type": "execute_result"
    }
   ],
   "source": [
    "type(set_1)"
   ]
  },
  {
   "cell_type": "code",
   "execution_count": 6,
   "metadata": {},
   "outputs": [],
   "source": [
    "dict_2 = {\"name\":\"alif\",\"number\":7465746837493923,\"mail\":\"alif@786\"} # dictionary has to be in {key:value} form"
   ]
  },
  {
   "cell_type": "code",
   "execution_count": 7,
   "metadata": {},
   "outputs": [
    {
     "data": {
      "text/plain": [
       "{'name': 'alif', 'number': 7465746837493923, 'mail': 'alif@786'}"
      ]
     },
     "execution_count": 7,
     "metadata": {},
     "output_type": "execute_result"
    }
   ],
   "source": [
    "dict_2"
   ]
  },
  {
   "cell_type": "code",
   "execution_count": 8,
   "metadata": {},
   "outputs": [
    {
     "data": {
      "text/plain": [
       "dict"
      ]
     },
     "execution_count": 8,
     "metadata": {},
     "output_type": "execute_result"
    }
   ],
   "source": [
    "type(dict_2)"
   ]
  },
  {
   "cell_type": "code",
   "execution_count": 9,
   "metadata": {},
   "outputs": [],
   "source": [
    "rock_properties = {\"porosity\":0.8,\"permeability\":20,\"lithology\":\"Sandstone\"}"
   ]
  },
  {
   "cell_type": "code",
   "execution_count": 10,
   "metadata": {},
   "outputs": [
    {
     "data": {
      "text/plain": [
       "{'porosity': 0.8, 'permeability': 20, 'lithology': 'Sandstone'}"
      ]
     },
     "execution_count": 10,
     "metadata": {},
     "output_type": "execute_result"
    }
   ],
   "source": [
    "rock_properties"
   ]
  },
  {
   "cell_type": "markdown",
   "metadata": {},
   "source": [
    "### Keys must be unique\n",
    "\n",
    "- if keys are duplicated, the value will be updated to the latest data"
   ]
  },
  {
   "cell_type": "code",
   "execution_count": 11,
   "metadata": {},
   "outputs": [],
   "source": [
    "rock = {\"lithology\":\"Limestone\",\"lithology\":\"Sandstone\"}"
   ]
  },
  {
   "cell_type": "code",
   "execution_count": 12,
   "metadata": {},
   "outputs": [
    {
     "data": {
      "text/plain": [
       "{'lithology': 'Sandstone'}"
      ]
     },
     "execution_count": 12,
     "metadata": {},
     "output_type": "execute_result"
    }
   ],
   "source": [
    "rock # Note that it will take the latest pairings"
   ]
  },
  {
   "cell_type": "code",
   "execution_count": 13,
   "metadata": {},
   "outputs": [],
   "source": [
    "dict_3 = {3434343:\"MAH\",\"name\":\"poros\"}"
   ]
  },
  {
   "cell_type": "code",
   "execution_count": 14,
   "metadata": {},
   "outputs": [
    {
     "data": {
      "text/plain": [
       "{3434343: 'MAH', 'name': 'poros'}"
      ]
     },
     "execution_count": 14,
     "metadata": {},
     "output_type": "execute_result"
    }
   ],
   "source": [
    "dict_3"
   ]
  },
  {
   "cell_type": "code",
   "execution_count": 15,
   "metadata": {},
   "outputs": [],
   "source": [
    "## special case characters are not allowed for key\n",
    "\n",
    "## float, integers and strings are allowed as keys"
   ]
  },
  {
   "cell_type": "code",
   "execution_count": 16,
   "metadata": {},
   "outputs": [
    {
     "ename": "NameError",
     "evalue": "name '_34' is not defined",
     "output_type": "error",
     "traceback": [
      "\u001b[1;31m---------------------------------------------------------------------------\u001b[0m",
      "\u001b[1;31mNameError\u001b[0m                                 Traceback (most recent call last)",
      "Cell \u001b[1;32mIn[16], line 1\u001b[0m\n\u001b[1;32m----> 1\u001b[0m d1 \u001b[38;5;241m=\u001b[39m {_34:\u001b[38;5;124m\"\u001b[39m\u001b[38;5;124mporo\u001b[39m\u001b[38;5;124m\"\u001b[39m}\n",
      "\u001b[1;31mNameError\u001b[0m: name '_34' is not defined"
     ]
    }
   ],
   "source": [
    "d1 = {_34:\"poro\"}"
   ]
  },
  {
   "cell_type": "code",
   "execution_count": 17,
   "metadata": {},
   "outputs": [],
   "source": [
    "d1 = {\"_34\":\"poro\"}"
   ]
  },
  {
   "cell_type": "code",
   "execution_count": 18,
   "metadata": {},
   "outputs": [
    {
     "data": {
      "text/plain": [
       "{'_34': 'poro'}"
      ]
     },
     "execution_count": 18,
     "metadata": {},
     "output_type": "execute_result"
    }
   ],
   "source": [
    "d1"
   ]
  },
  {
   "cell_type": "code",
   "execution_count": 19,
   "metadata": {},
   "outputs": [],
   "source": [
    "#values can be anything: list,tuple,set, anything"
   ]
  },
  {
   "cell_type": "code",
   "execution_count": 20,
   "metadata": {},
   "outputs": [],
   "source": [
    "dict_4 = {\"_3443\":\"poiros\",\"lis\":[67,34,534,\"porosity\",85],\"perms\":{\"x\":23,\"y\":43},\"oilprd\":(45,2,3,43321)}"
   ]
  },
  {
   "cell_type": "code",
   "execution_count": 21,
   "metadata": {},
   "outputs": [
    {
     "data": {
      "text/plain": [
       "{'_3443': 'poiros',\n",
       " 'lis': [67, 34, 534, 'porosity', 85],\n",
       " 'perms': {'x': 23, 'y': 43},\n",
       " 'oilprd': (45, 2, 3, 43321)}"
      ]
     },
     "execution_count": 21,
     "metadata": {},
     "output_type": "execute_result"
    }
   ],
   "source": [
    "dict_4"
   ]
  },
  {
   "cell_type": "markdown",
   "metadata": {},
   "source": [
    "## Accessing data from a dictionary"
   ]
  },
  {
   "cell_type": "code",
   "execution_count": 22,
   "metadata": {},
   "outputs": [],
   "source": [
    "a = [56,45,67,\"permeability\",72]"
   ]
  },
  {
   "cell_type": "code",
   "execution_count": 23,
   "metadata": {},
   "outputs": [
    {
     "data": {
      "text/plain": [
       "[56, 45, 67, 'permeability', 72]"
      ]
     },
     "execution_count": 23,
     "metadata": {},
     "output_type": "execute_result"
    }
   ],
   "source": [
    "a"
   ]
  },
  {
   "cell_type": "code",
   "execution_count": 24,
   "metadata": {},
   "outputs": [
    {
     "data": {
      "text/plain": [
       "'permeability'"
      ]
     },
     "execution_count": 24,
     "metadata": {},
     "output_type": "execute_result"
    }
   ],
   "source": [
    "a[3]"
   ]
  },
  {
   "cell_type": "code",
   "execution_count": 25,
   "metadata": {},
   "outputs": [
    {
     "data": {
      "text/plain": [
       "{'porosity': 0.8, 'permeability': 20, 'lithology': 'Sandstone'}"
      ]
     },
     "execution_count": 25,
     "metadata": {},
     "output_type": "execute_result"
    }
   ],
   "source": [
    "rock_properties"
   ]
  },
  {
   "cell_type": "code",
   "execution_count": 26,
   "metadata": {},
   "outputs": [
    {
     "data": {
      "text/plain": [
       "'Sandstone'"
      ]
     },
     "execution_count": 26,
     "metadata": {},
     "output_type": "execute_result"
    }
   ],
   "source": [
    "rock_properties[\"lithology\"]"
   ]
  },
  {
   "cell_type": "code",
   "execution_count": 27,
   "metadata": {},
   "outputs": [
    {
     "ename": "KeyError",
     "evalue": "0",
     "output_type": "error",
     "traceback": [
      "\u001b[1;31m---------------------------------------------------------------------------\u001b[0m",
      "\u001b[1;31mKeyError\u001b[0m                                  Traceback (most recent call last)",
      "Cell \u001b[1;32mIn[27], line 1\u001b[0m\n\u001b[1;32m----> 1\u001b[0m rock_properties[\u001b[38;5;241m0\u001b[39m]\n",
      "\u001b[1;31mKeyError\u001b[0m: 0"
     ]
    }
   ],
   "source": [
    "rock_properties[0] # Indexing won't work with dict. since all values already has a key to identify them"
   ]
  },
  {
   "cell_type": "code",
   "execution_count": 28,
   "metadata": {},
   "outputs": [
    {
     "data": {
      "text/plain": [
       "{'porosity': 0.8, 'permeability': 20, 'lithology': 'Sandstone'}"
      ]
     },
     "execution_count": 28,
     "metadata": {},
     "output_type": "execute_result"
    }
   ],
   "source": [
    "rock_properties"
   ]
  },
  {
   "cell_type": "code",
   "execution_count": 29,
   "metadata": {},
   "outputs": [],
   "source": [
    "rock_prop =  {\"rock_names\":[\"a\",\"b\",\"c\",\"d\"],'poro' : [0.25,0.30,0.40,0.25], 'perm' : [150,250,350,450] , \\\n",
    "             'lithology' : ['Limestone','Limestone','Limestone','Limestone']}"
   ]
  },
  {
   "cell_type": "code",
   "execution_count": 30,
   "metadata": {},
   "outputs": [
    {
     "data": {
      "text/plain": [
       "{'rock_names': ['a', 'b', 'c', 'd'],\n",
       " 'poro': [0.25, 0.3, 0.4, 0.25],\n",
       " 'perm': [150, 250, 350, 450],\n",
       " 'lithology': ['Limestone', 'Limestone', 'Limestone', 'Limestone']}"
      ]
     },
     "execution_count": 30,
     "metadata": {},
     "output_type": "execute_result"
    }
   ],
   "source": [
    "rock_prop"
   ]
  },
  {
   "cell_type": "code",
   "execution_count": 31,
   "metadata": {},
   "outputs": [
    {
     "data": {
      "text/plain": [
       "0.3"
      ]
     },
     "execution_count": 31,
     "metadata": {},
     "output_type": "execute_result"
    }
   ],
   "source": [
    "rock_prop['poro'][1]"
   ]
  },
  {
   "cell_type": "code",
   "execution_count": 32,
   "metadata": {},
   "outputs": [],
   "source": [
    "rock_prop_2 =  {\"rock_a\":{\"porosity\":0.3,\"perm\":45,\"Lithology\":\"Sandstone\"},\n",
    "             \"rock_b\":{\"porosity\":0.56,\"perm\":67,\"Lithology\":\"Limestone\"},\n",
    "             \"rock_c\":{\"porosity\":0.34,\"perm\":54,\"Lithology\":\"Sandstone\"},\n",
    "             \"rock_d\":{\"porosity\":0.78,\"perm\":76,\"Lithology\":\"Shale\"}}"
   ]
  },
  {
   "cell_type": "code",
   "execution_count": 33,
   "metadata": {},
   "outputs": [
    {
     "data": {
      "text/plain": [
       "{'rock_a': {'porosity': 0.3, 'perm': 45, 'Lithology': 'Sandstone'},\n",
       " 'rock_b': {'porosity': 0.56, 'perm': 67, 'Lithology': 'Limestone'},\n",
       " 'rock_c': {'porosity': 0.34, 'perm': 54, 'Lithology': 'Sandstone'},\n",
       " 'rock_d': {'porosity': 0.78, 'perm': 76, 'Lithology': 'Shale'}}"
      ]
     },
     "execution_count": 33,
     "metadata": {},
     "output_type": "execute_result"
    }
   ],
   "source": [
    "rock_prop_2"
   ]
  },
  {
   "cell_type": "code",
   "execution_count": 34,
   "metadata": {},
   "outputs": [
    {
     "data": {
      "text/plain": [
       "{'porosity': 0.34, 'perm': 54, 'Lithology': 'Sandstone'}"
      ]
     },
     "execution_count": 34,
     "metadata": {},
     "output_type": "execute_result"
    }
   ],
   "source": [
    "rock_prop_2[\"rock_c\"]"
   ]
  },
  {
   "cell_type": "code",
   "execution_count": 35,
   "metadata": {},
   "outputs": [
    {
     "data": {
      "text/plain": [
       "'Sandstone'"
      ]
     },
     "execution_count": 35,
     "metadata": {},
     "output_type": "execute_result"
    }
   ],
   "source": [
    "rock_prop_2[\"rock_c\"][\"Lithology\"]"
   ]
  },
  {
   "cell_type": "code",
   "execution_count": 36,
   "metadata": {},
   "outputs": [],
   "source": [
    "dict_5 = {\"_3443\":\"poros\",\"lis\":[67,34,534,\"porosity\",85],\"perms\":{\"x\":23,\"y\":43},\"oilprd\":(45,2,3,43321)}"
   ]
  },
  {
   "cell_type": "code",
   "execution_count": 37,
   "metadata": {},
   "outputs": [
    {
     "data": {
      "text/plain": [
       "{'_3443': 'poros',\n",
       " 'lis': [67, 34, 534, 'porosity', 85],\n",
       " 'perms': {'x': 23, 'y': 43},\n",
       " 'oilprd': (45, 2, 3, 43321)}"
      ]
     },
     "execution_count": 37,
     "metadata": {},
     "output_type": "execute_result"
    }
   ],
   "source": [
    "dict_5"
   ]
  },
  {
   "cell_type": "code",
   "execution_count": 38,
   "metadata": {},
   "outputs": [
    {
     "data": {
      "text/plain": [
       "dict"
      ]
     },
     "execution_count": 38,
     "metadata": {},
     "output_type": "execute_result"
    }
   ],
   "source": [
    "type(dict_5)"
   ]
  },
  {
   "cell_type": "code",
   "execution_count": 39,
   "metadata": {},
   "outputs": [
    {
     "data": {
      "text/plain": [
       "[67, 34, 534, 'porosity', 85]"
      ]
     },
     "execution_count": 39,
     "metadata": {},
     "output_type": "execute_result"
    }
   ],
   "source": [
    "dict_5[\"lis\"]"
   ]
  },
  {
   "cell_type": "code",
   "execution_count": 40,
   "metadata": {},
   "outputs": [
    {
     "data": {
      "text/plain": [
       "'porosity'"
      ]
     },
     "execution_count": 40,
     "metadata": {},
     "output_type": "execute_result"
    }
   ],
   "source": [
    "dict_5[\"lis\"][3]"
   ]
  },
  {
   "cell_type": "markdown",
   "metadata": {},
   "source": [
    "### Tuples are allowed as a key, \n",
    "### Sets, Lists and Dict are NOT allowed as key"
   ]
  },
  {
   "cell_type": "code",
   "execution_count": 41,
   "metadata": {},
   "outputs": [],
   "source": [
    "dict_6 = {(3,4,3):\"accccx\"}"
   ]
  },
  {
   "cell_type": "code",
   "execution_count": 42,
   "metadata": {},
   "outputs": [
    {
     "data": {
      "text/plain": [
       "{(3, 4, 3): 'accccx'}"
      ]
     },
     "execution_count": 42,
     "metadata": {},
     "output_type": "execute_result"
    }
   ],
   "source": [
    "dict_6"
   ]
  },
  {
   "cell_type": "code",
   "execution_count": 43,
   "metadata": {},
   "outputs": [
    {
     "data": {
      "text/plain": [
       "'accccx'"
      ]
     },
     "execution_count": 43,
     "metadata": {},
     "output_type": "execute_result"
    }
   ],
   "source": [
    "dict_6[(3,4,3)]"
   ]
  },
  {
   "cell_type": "code",
   "execution_count": 44,
   "metadata": {},
   "outputs": [
    {
     "ename": "TypeError",
     "evalue": "unhashable type: 'list'",
     "output_type": "error",
     "traceback": [
      "\u001b[1;31m---------------------------------------------------------------------------\u001b[0m",
      "\u001b[1;31mTypeError\u001b[0m                                 Traceback (most recent call last)",
      "Cell \u001b[1;32mIn[44], line 1\u001b[0m\n\u001b[1;32m----> 1\u001b[0m dict_6 \u001b[38;5;241m=\u001b[39m {[\u001b[38;5;241m3\u001b[39m,\u001b[38;5;241m4\u001b[39m,\u001b[38;5;241m3\u001b[39m]:\u001b[38;5;124m\"\u001b[39m\u001b[38;5;124msddds\u001b[39m\u001b[38;5;124m\"\u001b[39m}\n",
      "\u001b[1;31mTypeError\u001b[0m: unhashable type: 'list'"
     ]
    }
   ],
   "source": [
    "dict_6 = {[3,4,3]:\"sddds\"} # Lists cannot be keys"
   ]
  },
  {
   "cell_type": "code",
   "execution_count": 45,
   "metadata": {},
   "outputs": [],
   "source": [
    "d2 = {'_7808':'MAH','name':'Alif','n':[2,3,4,5,67,8,'js',(1,2,3,4)],'d':(3,4,5,6),'s':{1:25,'ez':'ak'}}\n"
   ]
  },
  {
   "cell_type": "code",
   "execution_count": 46,
   "metadata": {},
   "outputs": [
    {
     "data": {
      "text/plain": [
       "{'_7808': 'MAH',\n",
       " 'name': 'Alif',\n",
       " 'n': [2, 3, 4, 5, 67, 8, 'js', (1, 2, 3, 4)],\n",
       " 'd': (3, 4, 5, 6),\n",
       " 's': {1: 25, 'ez': 'ak'}}"
      ]
     },
     "execution_count": 46,
     "metadata": {},
     "output_type": "execute_result"
    }
   ],
   "source": [
    "d2"
   ]
  },
  {
   "cell_type": "code",
   "execution_count": 47,
   "metadata": {},
   "outputs": [
    {
     "data": {
      "text/plain": [
       "[2, 3, 4, 5, 67, 8, 'js', (1, 2, 3, 4)]"
      ]
     },
     "execution_count": 47,
     "metadata": {},
     "output_type": "execute_result"
    }
   ],
   "source": [
    "d2[\"n\"]"
   ]
  },
  {
   "cell_type": "code",
   "execution_count": 48,
   "metadata": {},
   "outputs": [
    {
     "data": {
      "text/plain": [
       "(1, 2, 3, 4)"
      ]
     },
     "execution_count": 48,
     "metadata": {},
     "output_type": "execute_result"
    }
   ],
   "source": [
    "d2[\"n\"][7]"
   ]
  },
  {
   "cell_type": "code",
   "execution_count": 50,
   "metadata": {},
   "outputs": [
    {
     "data": {
      "text/plain": [
       "3"
      ]
     },
     "execution_count": 50,
     "metadata": {},
     "output_type": "execute_result"
    }
   ],
   "source": [
    "d2[\"n\"][7][2]"
   ]
  },
  {
   "cell_type": "code",
   "execution_count": 53,
   "metadata": {},
   "outputs": [],
   "source": [
    "d3 = {'_786':'jc','name':'Ezani','n':[2,3,4,5,67,8,'js',{1,2,3,4}],'t':(3,4,5,6),'d':{1:23,'mah':'ak'}}"
   ]
  },
  {
   "cell_type": "code",
   "execution_count": 54,
   "metadata": {},
   "outputs": [
    {
     "data": {
      "text/plain": [
       "{'_786': 'jc',\n",
       " 'name': 'Ezani',\n",
       " 'n': [2, 3, 4, 5, 67, 8, 'js', {1, 2, 3, 4}],\n",
       " 't': (3, 4, 5, 6),\n",
       " 'd': {1: 23, 'mah': 'ak'}}"
      ]
     },
     "execution_count": 54,
     "metadata": {},
     "output_type": "execute_result"
    }
   ],
   "source": [
    "d3"
   ]
  },
  {
   "cell_type": "code",
   "execution_count": 55,
   "metadata": {},
   "outputs": [
    {
     "data": {
      "text/plain": [
       "3"
      ]
     },
     "execution_count": 55,
     "metadata": {},
     "output_type": "execute_result"
    }
   ],
   "source": [
    "list(d3[\"n\"][-1])[-2]"
   ]
  },
  {
   "cell_type": "markdown",
   "metadata": {},
   "source": [
    "## Dictionaries are mutable in nature"
   ]
  },
  {
   "cell_type": "code",
   "execution_count": 56,
   "metadata": {},
   "outputs": [
    {
     "data": {
      "text/plain": [
       "{'porosity': 0.8, 'permeability': 20, 'lithology': 'Sandstone'}"
      ]
     },
     "execution_count": 56,
     "metadata": {},
     "output_type": "execute_result"
    }
   ],
   "source": [
    "rock_properties"
   ]
  },
  {
   "cell_type": "code",
   "execution_count": 57,
   "metadata": {},
   "outputs": [],
   "source": [
    "rock_properties[\"lithology\"] = \"Shale\""
   ]
  },
  {
   "cell_type": "code",
   "execution_count": 58,
   "metadata": {},
   "outputs": [
    {
     "data": {
      "text/plain": [
       "{'porosity': 0.8, 'permeability': 20, 'lithology': 'Shale'}"
      ]
     },
     "execution_count": 58,
     "metadata": {},
     "output_type": "execute_result"
    }
   ],
   "source": [
    "rock_properties"
   ]
  },
  {
   "cell_type": "code",
   "execution_count": 59,
   "metadata": {},
   "outputs": [],
   "source": [
    "# start = int(input('Enter starting point: '))\n",
    "# stop = int(input('Enter stop point: '))\n",
    "# step = int(input('Enter step size: '))\n",
    "\n",
    "# list(range(start,stop,step))"
   ]
  },
  {
   "cell_type": "code",
   "execution_count": 60,
   "metadata": {},
   "outputs": [],
   "source": [
    "# ctrl + /"
   ]
  },
  {
   "cell_type": "code",
   "execution_count": 66,
   "metadata": {},
   "outputs": [
    {
     "data": {
      "text/plain": [
       "{'porosity': 0.3, 'permeability': 10, 'lithology': 'Shale'}"
      ]
     },
     "execution_count": 66,
     "metadata": {},
     "output_type": "execute_result"
    }
   ],
   "source": [
    "rock_properties"
   ]
  },
  {
   "cell_type": "code",
   "execution_count": 61,
   "metadata": {},
   "outputs": [],
   "source": [
    "rock_properties[\"WaterSat\"] = 0.25"
   ]
  },
  {
   "cell_type": "code",
   "execution_count": 62,
   "metadata": {},
   "outputs": [
    {
     "data": {
      "text/plain": [
       "{'porosity': 0.8, 'permeability': 20, 'lithology': 'Shale', 'WaterSat': 0.25}"
      ]
     },
     "execution_count": 62,
     "metadata": {},
     "output_type": "execute_result"
    }
   ],
   "source": [
    "rock_properties"
   ]
  },
  {
   "cell_type": "code",
   "execution_count": 63,
   "metadata": {},
   "outputs": [
    {
     "data": {
      "text/plain": [
       "'Shale'"
      ]
     },
     "execution_count": 63,
     "metadata": {},
     "output_type": "execute_result"
    }
   ],
   "source": [
    "rock_properties.pop(\"lithology\")"
   ]
  },
  {
   "cell_type": "code",
   "execution_count": 64,
   "metadata": {},
   "outputs": [
    {
     "data": {
      "text/plain": [
       "{'porosity': 0.8, 'permeability': 20, 'WaterSat': 0.25}"
      ]
     },
     "execution_count": 64,
     "metadata": {},
     "output_type": "execute_result"
    }
   ],
   "source": [
    "rock_properties"
   ]
  },
  {
   "cell_type": "code",
   "execution_count": 65,
   "metadata": {},
   "outputs": [
    {
     "data": {
      "text/plain": [
       "dict_keys(['porosity', 'permeability', 'WaterSat'])"
      ]
     },
     "execution_count": 65,
     "metadata": {},
     "output_type": "execute_result"
    }
   ],
   "source": [
    "rock_properties.keys()"
   ]
  },
  {
   "cell_type": "code",
   "execution_count": 66,
   "metadata": {},
   "outputs": [
    {
     "data": {
      "text/plain": [
       "dict_values([0.8, 20, 0.25])"
      ]
     },
     "execution_count": 66,
     "metadata": {},
     "output_type": "execute_result"
    }
   ],
   "source": [
    "rock_properties.values()"
   ]
  },
  {
   "cell_type": "markdown",
   "metadata": {},
   "source": [
    "## Summary of Data Structures:\n",
    "\n",
    "1. List: mutable, ordered, empty lists are used heavily to populate it later during the program, []\n",
    "\n",
    "2. Tuples: immutable, ordered, data cannot be changed, ()\n",
    "\n",
    "3. Sets : Unordered, uniqueness of element, {}\n",
    "\n",
    "4. Dictionaries: Key:Vale pair, mutable, {key:value}\n",
    "\n",
    "|Lists|Tuples|Sets|Dictionaries|\n",
    "|:-:|:-:|:-:|:-:|\n",
    "|[ ]|( )|{ }|{key:value}|\n",
    "|Mutable|Immutable|Mutable|Mutable|\n",
    "|Ordered|Ordered|Unordered|Ordered|\n",
    "|Non-unique|Non-unique|Unique|na|"
   ]
  },
  {
   "cell_type": "markdown",
   "metadata": {},
   "source": [
    "## for loops"
   ]
  },
  {
   "cell_type": "markdown",
   "metadata": {},
   "source": [
    "- Tool to utilize the power of computers(iterations)\n",
    "\n",
    "- We can perform repetition of a command n number of times \n",
    "\n",
    "- Iterations are always performed on iterables (ordered-collections: list,tuple, dict, string, numpy arrays,data frames)\n",
    "\n"
   ]
  },
  {
   "cell_type": "code",
   "execution_count": 67,
   "metadata": {},
   "outputs": [
    {
     "name": "stdout",
     "output_type": "stream",
     "text": [
      "0.2\n",
      "0.3\n",
      "0.4\n"
     ]
    }
   ],
   "source": [
    "poro = (0.2,0.3,0.4,0.4,0.56,0.43,0.65,0.34)\n",
    "print(poro[0])\n",
    "print(poro[1])\n",
    "print(poro[2])"
   ]
  },
  {
   "cell_type": "code",
   "execution_count": 68,
   "metadata": {},
   "outputs": [
    {
     "name": "stdout",
     "output_type": "stream",
     "text": [
      "The value of i is 0.2\n",
      "0.2\n",
      "End of for loop for i = 0.2\n",
      "================\n",
      "The value of i is 0.3\n",
      "0.3\n",
      "End of for loop for i = 0.3\n",
      "================\n",
      "The value of i is 0.4\n",
      "0.4\n",
      "End of for loop for i = 0.4\n",
      "================\n",
      "Outside of for loop\n"
     ]
    }
   ],
   "source": [
    "poro = (0.2,0.3,0.4)\n",
    "for i in poro:\n",
    "    print(f'The value of i is {i}')\n",
    "    print(i)\n",
    "    print(f'End of for loop for i = {i}')\n",
    "    print(\"================\")\n",
    "print(\"Outside of for loop\")"
   ]
  },
  {
   "cell_type": "markdown",
   "metadata": {},
   "source": [
    "### API = (141.5/SG) - 131.5"
   ]
  },
  {
   "cell_type": "code",
   "execution_count": 70,
   "metadata": {},
   "outputs": [],
   "source": [
    "specific_gravity = [0.12,0.23,0.34,0.45,0.56,0.67,0.78,0.9,1]\n"
   ]
  },
  {
   "cell_type": "code",
   "execution_count": 71,
   "metadata": {},
   "outputs": [
    {
     "name": "stdout",
     "output_type": "stream",
     "text": [
      "API gravity corresponding to Specific Gravity 0.12 is 1047.6666666666667\n",
      "API gravity corresponding to Specific Gravity 0.23 is 483.71739130434776\n",
      "API gravity corresponding to Specific Gravity 0.34 is 284.67647058823525\n",
      "API gravity corresponding to Specific Gravity 0.45 is 182.94444444444446\n",
      "API gravity corresponding to Specific Gravity 0.56 is 121.17857142857142\n",
      "API gravity corresponding to Specific Gravity 0.67 is 79.69402985074626\n",
      "API gravity corresponding to Specific Gravity 0.78 is 49.91025641025641\n",
      "API gravity corresponding to Specific Gravity 0.9 is 25.72222222222223\n",
      "API gravity corresponding to Specific Gravity 1 is 10.0\n"
     ]
    }
   ],
   "source": [
    "for i in specific_gravity:\n",
    "    api = (141.5/i) - 131.5\n",
    "    print(f\"API gravity corresponding to Specific Gravity {i} is {api}\")"
   ]
  },
  {
   "cell_type": "code",
   "execution_count": 72,
   "metadata": {},
   "outputs": [],
   "source": [
    "# API gravity decrease as the SG increase"
   ]
  },
  {
   "cell_type": "code",
   "execution_count": 97,
   "metadata": {},
   "outputs": [
    {
     "name": "stdout",
     "output_type": "stream",
     "text": [
      "\n",
      "API gravity corresponding to Specific Gravity 0.12 is 1047.6666666666667\n",
      "1047.6666666666667 stored in api_gravity list\n",
      "\n",
      "API gravity corresponding to Specific Gravity 0.23 is 483.71739130434776\n",
      "483.71739130434776 stored in api_gravity list\n",
      "\n",
      "API gravity corresponding to Specific Gravity 0.34 is 284.67647058823525\n",
      "284.67647058823525 stored in api_gravity list\n",
      "\n",
      "API gravity corresponding to Specific Gravity 0.45 is 182.94444444444446\n",
      "182.94444444444446 stored in api_gravity list\n",
      "\n",
      "API gravity corresponding to Specific Gravity 0.56 is 121.17857142857142\n",
      "121.17857142857142 stored in api_gravity list\n",
      "\n",
      "API gravity corresponding to Specific Gravity 0.67 is 79.69402985074626\n",
      "79.69402985074626 stored in api_gravity list\n",
      "\n",
      "API gravity corresponding to Specific Gravity 0.78 is 49.91025641025641\n",
      "49.91025641025641 stored in api_gravity list\n",
      "\n",
      "API gravity corresponding to Specific Gravity 0.9 is 25.72222222222223\n",
      "25.72222222222223 stored in api_gravity list\n",
      "\n",
      "API gravity corresponding to Specific Gravity 1 is 10.0\n",
      "10.0 stored in api_gravity list\n"
     ]
    }
   ],
   "source": [
    "api_gravity1 = []\n",
    "\n",
    "for i in specific_gravity:\n",
    "    api = (141.5/i) - 131.5\n",
    "    print()\n",
    "    print(f\"API gravity corresponding to Specific Gravity {i} is {api}\")\n",
    "    api_gravity1.append(api)\n",
    "    print(f\"{api} stored in api_gravity list\")"
   ]
  },
  {
   "cell_type": "code",
   "execution_count": 98,
   "metadata": {},
   "outputs": [
    {
     "data": {
      "text/plain": [
       "[1047.6666666666667,\n",
       " 483.71739130434776,\n",
       " 284.67647058823525,\n",
       " 182.94444444444446,\n",
       " 121.17857142857142,\n",
       " 79.69402985074626,\n",
       " 49.91025641025641,\n",
       " 25.72222222222223,\n",
       " 10.0]"
      ]
     },
     "execution_count": 98,
     "metadata": {},
     "output_type": "execute_result"
    }
   ],
   "source": [
    "api_gravity1"
   ]
  },
  {
   "cell_type": "code",
   "execution_count": 99,
   "metadata": {},
   "outputs": [],
   "source": [
    "api_gravity2 = []"
   ]
  },
  {
   "cell_type": "code",
   "execution_count": 100,
   "metadata": {},
   "outputs": [
    {
     "data": {
      "text/plain": [
       "list"
      ]
     },
     "execution_count": 100,
     "metadata": {},
     "output_type": "execute_result"
    }
   ],
   "source": [
    "type(api_gravity2)"
   ]
  },
  {
   "cell_type": "code",
   "execution_count": 101,
   "metadata": {},
   "outputs": [
    {
     "data": {
      "text/plain": [
       "[]"
      ]
     },
     "execution_count": 101,
     "metadata": {},
     "output_type": "execute_result"
    }
   ],
   "source": [
    "api_gravity2"
   ]
  },
  {
   "cell_type": "code",
   "execution_count": 102,
   "metadata": {},
   "outputs": [],
   "source": [
    "api_gravity2.append(34)"
   ]
  },
  {
   "cell_type": "code",
   "execution_count": 103,
   "metadata": {},
   "outputs": [
    {
     "data": {
      "text/plain": [
       "[34]"
      ]
     },
     "execution_count": 103,
     "metadata": {},
     "output_type": "execute_result"
    }
   ],
   "source": [
    "api_gravity2"
   ]
  },
  {
   "cell_type": "code",
   "execution_count": 104,
   "metadata": {},
   "outputs": [],
   "source": [
    "api_gravity2.append(54)"
   ]
  },
  {
   "cell_type": "code",
   "execution_count": 105,
   "metadata": {},
   "outputs": [
    {
     "data": {
      "text/plain": [
       "[34, 54]"
      ]
     },
     "execution_count": 105,
     "metadata": {},
     "output_type": "execute_result"
    }
   ],
   "source": [
    "api_gravity2"
   ]
  },
  {
   "cell_type": "code",
   "execution_count": 108,
   "metadata": {},
   "outputs": [
    {
     "name": "stdout",
     "output_type": "stream",
     "text": [
      "\n",
      "API gravity corresponding to Specific Gravity 0.12 is 1047.6666666666667\n",
      "1047.6666666666667 stored in api_gravity list\n",
      "\n",
      "API gravity corresponding to Specific Gravity 0.23 is 483.71739130434776\n",
      "483.71739130434776 stored in api_gravity list\n",
      "\n",
      "API gravity corresponding to Specific Gravity 0.34 is 284.67647058823525\n",
      "284.67647058823525 stored in api_gravity list\n",
      "\n",
      "API gravity corresponding to Specific Gravity 0.45 is 182.94444444444446\n",
      "182.94444444444446 stored in api_gravity list\n",
      "\n",
      "API gravity corresponding to Specific Gravity 0.56 is 121.17857142857142\n",
      "121.17857142857142 stored in api_gravity list\n",
      "\n",
      "API gravity corresponding to Specific Gravity 0.67 is 79.69402985074626\n",
      "79.69402985074626 stored in api_gravity list\n",
      "\n",
      "API gravity corresponding to Specific Gravity 0.78 is 49.91025641025641\n",
      "49.91025641025641 stored in api_gravity list\n",
      "\n",
      "API gravity corresponding to Specific Gravity 0.9 is 25.72222222222223\n",
      "25.72222222222223 stored in api_gravity list\n",
      "\n",
      "API gravity corresponding to Specific Gravity 1 is 10.0\n",
      "10.0 stored in api_gravity list\n"
     ]
    }
   ],
   "source": [
    "api_gravity3 = {}\n",
    "\n",
    "for i in specific_gravity:\n",
    "    api = (141.5/i) - 131.5\n",
    "    print()\n",
    "    print(f\"API gravity corresponding to Specific Gravity {i} is {api}\")\n",
    "    #api_gravity.append(api)\n",
    "    api_gravity3[f\"SG_{i}\"] = api\n",
    "    print(f\"{api} stored in api_gravity list\")"
   ]
  },
  {
   "cell_type": "code",
   "execution_count": 109,
   "metadata": {},
   "outputs": [
    {
     "data": {
      "text/plain": [
       "{'SG_0.12': 1047.6666666666667,\n",
       " 'SG_0.23': 483.71739130434776,\n",
       " 'SG_0.34': 284.67647058823525,\n",
       " 'SG_0.45': 182.94444444444446,\n",
       " 'SG_0.56': 121.17857142857142,\n",
       " 'SG_0.67': 79.69402985074626,\n",
       " 'SG_0.78': 49.91025641025641,\n",
       " 'SG_0.9': 25.72222222222223,\n",
       " 'SG_1': 10.0}"
      ]
     },
     "execution_count": 109,
     "metadata": {},
     "output_type": "execute_result"
    }
   ],
   "source": [
    "api_gravity3"
   ]
  },
  {
   "cell_type": "code",
   "execution_count": 89,
   "metadata": {},
   "outputs": [],
   "source": [
    "import matplotlib.pyplot as plt"
   ]
  },
  {
   "cell_type": "code",
   "execution_count": 110,
   "metadata": {},
   "outputs": [],
   "source": [
    "specific_gravity.sort()"
   ]
  },
  {
   "cell_type": "code",
   "execution_count": 111,
   "metadata": {},
   "outputs": [
    {
     "data": {
      "text/plain": [
       "[0.12, 0.23, 0.34, 0.45, 0.56, 0.67, 0.78, 0.9, 1]"
      ]
     },
     "execution_count": 111,
     "metadata": {},
     "output_type": "execute_result"
    }
   ],
   "source": [
    "specific_gravity"
   ]
  },
  {
   "cell_type": "code",
   "execution_count": 120,
   "metadata": {},
   "outputs": [],
   "source": [
    "api_gravity1.sort(reverse=True)"
   ]
  },
  {
   "cell_type": "code",
   "execution_count": 121,
   "metadata": {},
   "outputs": [
    {
     "data": {
      "text/plain": [
       "[1047.6666666666667,\n",
       " 483.71739130434776,\n",
       " 284.67647058823525,\n",
       " 182.94444444444446,\n",
       " 121.17857142857142,\n",
       " 79.69402985074626,\n",
       " 49.91025641025641,\n",
       " 25.72222222222223,\n",
       " 10.0]"
      ]
     },
     "execution_count": 121,
     "metadata": {},
     "output_type": "execute_result"
    }
   ],
   "source": [
    "api_gravity1"
   ]
  },
  {
   "cell_type": "code",
   "execution_count": 149,
   "metadata": {},
   "outputs": [
    {
     "data": {
      "text/plain": [
       "Text(0, 0.5, 'API')"
      ]
     },
     "execution_count": 149,
     "metadata": {},
     "output_type": "execute_result"
    },
    {
     "data": {
      "image/png": "[encoded data removed]",
      "text/plain": [
       "<Figure size 640x480 with 1 Axes>"
      ]
     },
     "metadata": {},
     "output_type": "display_data"
    }
   ],
   "source": [
    "plt.plot(specific_gravity,api_gravity1,'g--')\n",
    "plt.xlabel('SG')\n",
    "plt.ylabel(\"API\")"
   ]
  },
  {
   "cell_type": "code",
   "execution_count": 123,
   "metadata": {},
   "outputs": [],
   "source": [
    "perm = [1,2,3]\n"
   ]
  },
  {
   "cell_type": "code",
   "execution_count": 124,
   "metadata": {},
   "outputs": [
    {
     "data": {
      "text/plain": [
       "[0.12, 0.23, 0.34, 0.45, 0.56, 0.67, 0.78, 0.9, 1]"
      ]
     },
     "execution_count": 124,
     "metadata": {},
     "output_type": "execute_result"
    }
   ],
   "source": [
    "specific_gravity"
   ]
  },
  {
   "cell_type": "code",
   "execution_count": 125,
   "metadata": {},
   "outputs": [
    {
     "name": "stdout",
     "output_type": "stream",
     "text": [
      "Perm value is 1\n",
      "Now all the gravities will be printed\n",
      "for perm value 1, the SG value is 0.12\n",
      "for perm value 1, the SG value is 0.23\n",
      "for perm value 1, the SG value is 0.34\n",
      "for perm value 1, the SG value is 0.45\n",
      "for perm value 1, the SG value is 0.56\n",
      "for perm value 1, the SG value is 0.67\n",
      "for perm value 1, the SG value is 0.78\n",
      "for perm value 1, the SG value is 0.9\n",
      "for perm value 1, the SG value is 1\n",
      "==========================\n",
      "Perm value is 2\n",
      "Now all the gravities will be printed\n",
      "for perm value 2, the SG value is 0.12\n",
      "for perm value 2, the SG value is 0.23\n",
      "for perm value 2, the SG value is 0.34\n",
      "for perm value 2, the SG value is 0.45\n",
      "for perm value 2, the SG value is 0.56\n",
      "for perm value 2, the SG value is 0.67\n",
      "for perm value 2, the SG value is 0.78\n",
      "for perm value 2, the SG value is 0.9\n",
      "for perm value 2, the SG value is 1\n",
      "==========================\n",
      "Perm value is 3\n",
      "Now all the gravities will be printed\n",
      "for perm value 3, the SG value is 0.12\n",
      "for perm value 3, the SG value is 0.23\n",
      "for perm value 3, the SG value is 0.34\n",
      "for perm value 3, the SG value is 0.45\n",
      "for perm value 3, the SG value is 0.56\n",
      "for perm value 3, the SG value is 0.67\n",
      "for perm value 3, the SG value is 0.78\n",
      "for perm value 3, the SG value is 0.9\n",
      "for perm value 3, the SG value is 1\n",
      "==========================\n"
     ]
    }
   ],
   "source": [
    "for i in perm:\n",
    "    print(f\"Perm value is {i}\")\n",
    "    print(\"Now all the gravities will be printed\")\n",
    "    for j in specific_gravity:\n",
    "        print(f\"for perm value {i}, the SG value is {j}\")\n",
    "    print('==========================')"
   ]
  },
  {
   "cell_type": "markdown",
   "metadata": {},
   "source": [
    "## ZIP"
   ]
  },
  {
   "cell_type": "code",
   "execution_count": 126,
   "metadata": {},
   "outputs": [],
   "source": [
    "perm2 = [1,2,3,4,5]\n",
    "specific_grav2 = [0.3,0.5,0.7,0.8,0.9,0.6767]\n",
    "porosity = [0.3,0.6,0.9]"
   ]
  },
  {
   "cell_type": "code",
   "execution_count": 127,
   "metadata": {},
   "outputs": [
    {
     "data": {
      "text/plain": [
       "<zip at 0x246b4f58d40>"
      ]
     },
     "execution_count": 127,
     "metadata": {},
     "output_type": "execute_result"
    }
   ],
   "source": [
    "zip(perm2,specific_grav2,porosity)"
   ]
  },
  {
   "cell_type": "code",
   "execution_count": 128,
   "metadata": {},
   "outputs": [
    {
     "data": {
      "text/plain": [
       "zip"
      ]
     },
     "execution_count": 128,
     "metadata": {},
     "output_type": "execute_result"
    }
   ],
   "source": [
    "type(zip(perm2,specific_grav2,porosity))"
   ]
  },
  {
   "cell_type": "code",
   "execution_count": 129,
   "metadata": {},
   "outputs": [
    {
     "data": {
      "text/plain": [
       "[(1, 0.3, 0.3), (2, 0.5, 0.6), (3, 0.7, 0.9)]"
      ]
     },
     "execution_count": 129,
     "metadata": {},
     "output_type": "execute_result"
    }
   ],
   "source": [
    "list(zip(perm2,specific_grav2,porosity))"
   ]
  },
  {
   "cell_type": "code",
   "execution_count": 131,
   "metadata": {},
   "outputs": [
    {
     "name": "stdout",
     "output_type": "stream",
     "text": [
      "Perm is : 1\n",
      "SG is : 0.3\n",
      "Poro is : 0.3\n",
      "================\n",
      "Perm is : 2\n",
      "SG is : 0.5\n",
      "Poro is : 0.6\n",
      "================\n",
      "Perm is : 3\n",
      "SG is : 0.7\n",
      "Poro is : 0.9\n",
      "================\n"
     ]
    }
   ],
   "source": [
    "for i,j,k in zip(perm2,specific_grav2,porosity):\n",
    "    print(f\"Perm is : {i}\")\n",
    "    print(f\"SG is : {j}\")\n",
    "    print(f\"Poro is : {k}\")\n",
    "    print(\"================\")"
   ]
  },
  {
   "cell_type": "code",
   "execution_count": 132,
   "metadata": {},
   "outputs": [],
   "source": [
    "perm3 = [1,2,3]\n",
    "specific_grav3 = [0.3,0.5,0.7]\n",
    "porosity = [0.3,0.6,0.9]"
   ]
  },
  {
   "cell_type": "code",
   "execution_count": null,
   "metadata": {},
   "outputs": [],
   "source": []
  },
  {
   "cell_type": "code",
   "execution_count": 120,
   "metadata": {},
   "outputs": [],
   "source": [
    "# (perm*sg)/poro"
   ]
  },
  {
   "cell_type": "code",
   "execution_count": 133,
   "metadata": {},
   "outputs": [
    {
     "name": "stdout",
     "output_type": "stream",
     "text": [
      "The value of perm*sg/poro is 1.0\n",
      "The value of perm*sg/poro is 1.6666666666666667\n",
      "The value of perm*sg/poro is 2.333333333333333\n"
     ]
    }
   ],
   "source": [
    "product = []\n",
    "for i,j,k in zip(perm3,specific_grav3,porosity):\n",
    "    c = (i*j)/k\n",
    "    print(f\"The value of perm*sg/poro is {c}\")\n",
    "    product.append(c)"
   ]
  },
  {
   "cell_type": "code",
   "execution_count": 134,
   "metadata": {},
   "outputs": [
    {
     "data": {
      "text/plain": [
       "[1.0, 1.6666666666666667, 2.333333333333333]"
      ]
     },
     "execution_count": 134,
     "metadata": {},
     "output_type": "execute_result"
    }
   ],
   "source": [
    "product"
   ]
  },
  {
   "cell_type": "code",
   "execution_count": 135,
   "metadata": {},
   "outputs": [],
   "source": [
    "perm4 = [1,2,3]\n",
    "field_name = ['N23','Kikeh','Siakap North Petai']\n",
    "porosity2 = [0.2,0.3,0.4]"
   ]
  },
  {
   "cell_type": "code",
   "execution_count": 136,
   "metadata": {},
   "outputs": [],
   "source": [
    "#Print = In field _____ , the value of porosity(%) is _____ and perm is ____"
   ]
  },
  {
   "cell_type": "code",
   "execution_count": 137,
   "metadata": {},
   "outputs": [
    {
     "name": "stdout",
     "output_type": "stream",
     "text": [
      "In field N23 , the value of porosity(%) is 30.0 and perm is 1\n",
      "In field Kikeh , the value of porosity(%) is 60.0 and perm is 2\n",
      "In field Siakap North Petai , the value of porosity(%) is 90.0 and perm is 3\n"
     ]
    }
   ],
   "source": [
    "for i,j,k in zip(field_name,porosity,perm):\n",
    "    print(f\"In field {i} , the value of porosity(%) is {j*100} and perm is {k}\")"
   ]
  },
  {
   "cell_type": "markdown",
   "metadata": {},
   "source": [
    "## if-else: To run block of code only if certain condition holds true\n",
    "\n",
    "- Indentation is crucial"
   ]
  },
  {
   "cell_type": "code",
   "execution_count": 143,
   "metadata": {},
   "outputs": [],
   "source": [
    "if 5 < 2:\n",
    "    print(\"Executed\")"
   ]
  },
  {
   "cell_type": "code",
   "execution_count": 144,
   "metadata": {},
   "outputs": [
    {
     "data": {
      "text/plain": [
       "False"
      ]
     },
     "execution_count": 144,
     "metadata": {},
     "output_type": "execute_result"
    }
   ],
   "source": [
    "5 < 2"
   ]
  },
  {
   "cell_type": "code",
   "execution_count": 145,
   "metadata": {},
   "outputs": [
    {
     "data": {
      "text/plain": [
       "True"
      ]
     },
     "execution_count": 145,
     "metadata": {},
     "output_type": "execute_result"
    }
   ],
   "source": [
    "5 > 2"
   ]
  },
  {
   "cell_type": "code",
   "execution_count": 146,
   "metadata": {},
   "outputs": [
    {
     "data": {
      "text/plain": [
       "True"
      ]
     },
     "execution_count": 146,
     "metadata": {},
     "output_type": "execute_result"
    }
   ],
   "source": [
    "5 == 5"
   ]
  },
  {
   "cell_type": "code",
   "execution_count": 147,
   "metadata": {},
   "outputs": [
    {
     "name": "stdout",
     "output_type": "stream",
     "text": [
      "False\n"
     ]
    }
   ],
   "source": [
    "condition = 5 < 2\n",
    "print(condition)"
   ]
  },
  {
   "cell_type": "code",
   "execution_count": 148,
   "metadata": {},
   "outputs": [
    {
     "name": "stdout",
     "output_type": "stream",
     "text": [
      "else is executed\n"
     ]
    }
   ],
   "source": [
    "if condition:                        # Basically if 'condition' is True\n",
    "    print(\"If is Executed\")          # this line will be run, rests of lines of same indent lvl will be ignored\n",
    "                                     # If False, this line will be skipped, and goes to the next line\n",
    "else:\n",
    "    print(\"else is executed\")        # If 'condition' is False, this line will be run instead"
   ]
  }
 ],
 "metadata": {
  "kernelspec": {
   "display_name": "Python 3 (ipykernel)",
   "language": "python",
   "name": "python3"
  },
  "language_info": {
   "codemirror_mode": {
    "name": "ipython",
    "version": 3
   },
   "file_extension": ".py",
   "mimetype": "text/x-python",
   "name": "python",
   "nbconvert_exporter": "python",
   "pygments_lexer": "ipython3",
   "version": "3.11.3"
  }
 },
 "nbformat": 4,
 "nbformat_minor": 2
}
