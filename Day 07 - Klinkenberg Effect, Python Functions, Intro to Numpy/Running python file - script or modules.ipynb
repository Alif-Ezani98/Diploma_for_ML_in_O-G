{
 "cells": [
  {
   "cell_type": "code",
   "execution_count": 3,
   "id": "2a1f0f4d",
   "metadata": {},
   "outputs": [],
   "source": [
    "import reservoir_function"
   ]
  },
  {
   "cell_type": "code",
   "execution_count": 4,
   "id": "d15b9066",
   "metadata": {},
   "outputs": [
    {
     "name": "stdout",
     "output_type": "stream",
     "text": [
      "The final value of Perm K is: 41.982330524465326 \n",
      "The number of iterations used = 3\n"
     ]
    }
   ],
   "source": [
    "k = reservoir_function.klinkenberg(45,25,35)"
   ]
  }
 ],
 "metadata": {
  "kernelspec": {
   "display_name": "Python 3 (ipykernel)",
   "language": "python",
   "name": "python3"
  },
  "language_info": {
   "codemirror_mode": {
    "name": "ipython",
    "version": 3
   },
   "file_extension": ".py",
   "mimetype": "text/x-python",
   "name": "python",
   "nbconvert_exporter": "python",
   "pygments_lexer": "ipython3",
   "version": "3.11.3"
  }
 },
 "nbformat": 4,
 "nbformat_minor": 5
}
